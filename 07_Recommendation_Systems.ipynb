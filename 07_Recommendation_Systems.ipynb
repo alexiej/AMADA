{
  "nbformat": 4,
  "nbformat_minor": 0,
  "metadata": {
    "colab": {
      "name": "07. Recommendation Systems.ipynb",
      "provenance": [],
      "collapsed_sections": [],
      "toc_visible": true,
      "include_colab_link": true
    },
    "kernelspec": {
      "name": "python3",
      "display_name": "Python 3"
    }
  },
  "cells": [
    {
      "cell_type": "markdown",
      "metadata": {
        "id": "view-in-github",
        "colab_type": "text"
      },
      "source": [
        "<a href=\"https://colab.research.google.com/github/alexiej/AMADA/blob/master/07_Recommendation_Systems.ipynb\" target=\"_parent\"><img src=\"https://colab.research.google.com/assets/colab-badge.svg\" alt=\"Open In Colab\"/></a>"
      ]
    },
    {
      "cell_type": "markdown",
      "metadata": {
        "id": "cA16KMHXYUQy",
        "colab_type": "text"
      },
      "source": [
        "# 07. RECOMMENDATION SYSTEM\n",
        "\n",
        "Recommendation systems using different techniques.\n",
        "\n"
      ]
    },
    {
      "cell_type": "code",
      "metadata": {
        "id": "sYCRp5Rym1q8",
        "colab_type": "code",
        "colab": {}
      },
      "source": [
        "import pandas as pd\n",
        "import numpy as np"
      ],
      "execution_count": 0,
      "outputs": []
    },
    {
      "cell_type": "markdown",
      "metadata": {
        "id": "ok2r0tPXb0_k",
        "colab_type": "text"
      },
      "source": [
        "## Measure systems"
      ]
    },
    {
      "cell_type": "code",
      "metadata": {
        "id": "5EftoskgmIsC",
        "colab_type": "code",
        "outputId": "a7f85fb0-5574-4a22-d325-99c2036f7079",
        "colab": {
          "base_uri": "https://localhost:8080/",
          "height": 235
        }
      },
      "source": [
        "data = pd.DataFrame([['User1', 'Star Wars', '4'],\n",
        "                     ['User1', 'Star Trek', '4'],\n",
        "                     ['User1', 'StarGate', '3'],\n",
        "                     ['User2', 'Star Trek', '3'],\n",
        "                     ['User2', 'Terminator', '1'],\n",
        "                     ['User2', 'Hobbit', '5']], columns=['User', 'Movie', 'Rate (1-5)'])\n",
        "data"
      ],
      "execution_count": 238,
      "outputs": [
        {
          "output_type": "execute_result",
          "data": {
            "text/html": [
              "<div>\n",
              "<style scoped>\n",
              "    .dataframe tbody tr th:only-of-type {\n",
              "        vertical-align: middle;\n",
              "    }\n",
              "\n",
              "    .dataframe tbody tr th {\n",
              "        vertical-align: top;\n",
              "    }\n",
              "\n",
              "    .dataframe thead th {\n",
              "        text-align: right;\n",
              "    }\n",
              "</style>\n",
              "<table border=\"1\" class=\"dataframe\">\n",
              "  <thead>\n",
              "    <tr style=\"text-align: right;\">\n",
              "      <th></th>\n",
              "      <th>User</th>\n",
              "      <th>Movie</th>\n",
              "      <th>Rate (1-5)</th>\n",
              "    </tr>\n",
              "  </thead>\n",
              "  <tbody>\n",
              "    <tr>\n",
              "      <th>0</th>\n",
              "      <td>User1</td>\n",
              "      <td>Star Wars</td>\n",
              "      <td>4</td>\n",
              "    </tr>\n",
              "    <tr>\n",
              "      <th>1</th>\n",
              "      <td>User1</td>\n",
              "      <td>Star Trek</td>\n",
              "      <td>4</td>\n",
              "    </tr>\n",
              "    <tr>\n",
              "      <th>2</th>\n",
              "      <td>User1</td>\n",
              "      <td>StarGate</td>\n",
              "      <td>3</td>\n",
              "    </tr>\n",
              "    <tr>\n",
              "      <th>3</th>\n",
              "      <td>User2</td>\n",
              "      <td>Star Trek</td>\n",
              "      <td>3</td>\n",
              "    </tr>\n",
              "    <tr>\n",
              "      <th>4</th>\n",
              "      <td>User2</td>\n",
              "      <td>Terminator</td>\n",
              "      <td>1</td>\n",
              "    </tr>\n",
              "    <tr>\n",
              "      <th>5</th>\n",
              "      <td>User2</td>\n",
              "      <td>Hobbit</td>\n",
              "      <td>5</td>\n",
              "    </tr>\n",
              "  </tbody>\n",
              "</table>\n",
              "</div>"
            ],
            "text/plain": [
              "    User       Movie Rate (1-5)\n",
              "0  User1   Star Wars          4\n",
              "1  User1   Star Trek          4\n",
              "2  User1    StarGate          3\n",
              "3  User2   Star Trek          3\n",
              "4  User2  Terminator          1\n",
              "5  User2      Hobbit          5"
            ]
          },
          "metadata": {
            "tags": []
          },
          "execution_count": 238
        }
      ]
    },
    {
      "cell_type": "code",
      "metadata": {
        "id": "ElEMqMPtKV3i",
        "colab_type": "code",
        "outputId": "e1521f3b-d44f-45f0-cf34-33f1fab1a0c0",
        "colab": {
          "base_uri": "https://localhost:8080/",
          "height": 142
        }
      },
      "source": [
        "train_set = data.iloc[[0,1,3]]\n",
        "train_set"
      ],
      "execution_count": 142,
      "outputs": [
        {
          "output_type": "execute_result",
          "data": {
            "text/html": [
              "<div>\n",
              "<style scoped>\n",
              "    .dataframe tbody tr th:only-of-type {\n",
              "        vertical-align: middle;\n",
              "    }\n",
              "\n",
              "    .dataframe tbody tr th {\n",
              "        vertical-align: top;\n",
              "    }\n",
              "\n",
              "    .dataframe thead th {\n",
              "        text-align: right;\n",
              "    }\n",
              "</style>\n",
              "<table border=\"1\" class=\"dataframe\">\n",
              "  <thead>\n",
              "    <tr style=\"text-align: right;\">\n",
              "      <th></th>\n",
              "      <th>User</th>\n",
              "      <th>Movie</th>\n",
              "      <th>Rate (1-5)</th>\n",
              "    </tr>\n",
              "  </thead>\n",
              "  <tbody>\n",
              "    <tr>\n",
              "      <th>0</th>\n",
              "      <td>User1</td>\n",
              "      <td>Star Wars</td>\n",
              "      <td>4</td>\n",
              "    </tr>\n",
              "    <tr>\n",
              "      <th>1</th>\n",
              "      <td>User1</td>\n",
              "      <td>Star Trek</td>\n",
              "      <td>4</td>\n",
              "    </tr>\n",
              "    <tr>\n",
              "      <th>3</th>\n",
              "      <td>User2</td>\n",
              "      <td>Star Trek</td>\n",
              "      <td>3</td>\n",
              "    </tr>\n",
              "  </tbody>\n",
              "</table>\n",
              "</div>"
            ],
            "text/plain": [
              "    User      Movie Rate (1-5)\n",
              "0  User1  Star Wars          4\n",
              "1  User1  Star Trek          4\n",
              "3  User2  Star Trek          3"
            ]
          },
          "metadata": {
            "tags": []
          },
          "execution_count": 142
        }
      ]
    },
    {
      "cell_type": "code",
      "metadata": {
        "id": "rrN1BjqLKaP_",
        "colab_type": "code",
        "outputId": "74335430-c4ca-4cc1-b4fa-88a6c964afe1",
        "colab": {
          "base_uri": "https://localhost:8080/",
          "height": 142
        }
      },
      "source": [
        "test_set = data[~data.index.isin(train_set.index)]\n",
        "test_set"
      ],
      "execution_count": 143,
      "outputs": [
        {
          "output_type": "execute_result",
          "data": {
            "text/html": [
              "<div>\n",
              "<style scoped>\n",
              "    .dataframe tbody tr th:only-of-type {\n",
              "        vertical-align: middle;\n",
              "    }\n",
              "\n",
              "    .dataframe tbody tr th {\n",
              "        vertical-align: top;\n",
              "    }\n",
              "\n",
              "    .dataframe thead th {\n",
              "        text-align: right;\n",
              "    }\n",
              "</style>\n",
              "<table border=\"1\" class=\"dataframe\">\n",
              "  <thead>\n",
              "    <tr style=\"text-align: right;\">\n",
              "      <th></th>\n",
              "      <th>User</th>\n",
              "      <th>Movie</th>\n",
              "      <th>Rate (1-5)</th>\n",
              "    </tr>\n",
              "  </thead>\n",
              "  <tbody>\n",
              "    <tr>\n",
              "      <th>2</th>\n",
              "      <td>User1</td>\n",
              "      <td>StarGate</td>\n",
              "      <td>3</td>\n",
              "    </tr>\n",
              "    <tr>\n",
              "      <th>4</th>\n",
              "      <td>User2</td>\n",
              "      <td>Terminator</td>\n",
              "      <td>1</td>\n",
              "    </tr>\n",
              "    <tr>\n",
              "      <th>5</th>\n",
              "      <td>User2</td>\n",
              "      <td>Hobbit</td>\n",
              "      <td>5</td>\n",
              "    </tr>\n",
              "  </tbody>\n",
              "</table>\n",
              "</div>"
            ],
            "text/plain": [
              "    User       Movie Rate (1-5)\n",
              "2  User1    StarGate          3\n",
              "4  User2  Terminator          1\n",
              "5  User2      Hobbit          5"
            ]
          },
          "metadata": {
            "tags": []
          },
          "execution_count": 143
        }
      ]
    },
    {
      "cell_type": "markdown",
      "metadata": {
        "id": "YA8eNnHhb3XZ",
        "colab_type": "text"
      },
      "source": [
        "### Top-N Hit Rate\n",
        "\n",
        "In this measure system we've got a recommendation system that give us TOP-N recommendations, so next if the element exists in our test set it is consider as a hit. \n",
        "\n",
        "$\\begin{align*}top\\_n\\_hitrate=\\frac{hits}{users}\\end{align*}$"
      ]
    },
    {
      "cell_type": "markdown",
      "metadata": {
        "id": "Y20WE5uICmgU",
        "colab_type": "text"
      },
      "source": [
        "Recommendations (output of the recommendation system, based on the train environment). That's why you find also movies that have been seen (this is our HIT):\n",
        "\n",
        "User | Movie | Position\n",
        "--- | --- | ---\n",
        "User1 | Godzilla | 0\n",
        "User1 | StarGate | 1 (HIT)\n",
        "User1 | Independance Day | 2\n",
        "User2 | Godzilla | 0\n",
        "User2 | Terminator | 1 (HIT)\n",
        "User2 | Independance Day | 2\n",
        "\n",
        "\n",
        "$\\begin{align*}top\\_n\\_hitrate=\\frac{hits}{users}=\\frac{2}{2}=1.0\\end{align*}$\n",
        "\n",
        "Divide by the number of recommendation in the top N (N=3). Our hit rate is 33%"
      ]
    },
    {
      "cell_type": "code",
      "metadata": {
        "id": "Xg-nEOSoB0Za",
        "colab_type": "code",
        "outputId": "1c42ef79-3e5b-4c7c-c600-0b3e775b9dd3",
        "colab": {
          "base_uri": "https://localhost:8080/",
          "height": 235
        }
      },
      "source": [
        "recommendation = pd.DataFrame( [['User1', 'Godzilla', 0, 4.8],\n",
        "                                ['User1', 'StarGate', 1, 4.7],\n",
        "                                ['User1', 'Independence Day', 2, 4.0],\n",
        "                                ['User2', 'Godzilla', 0 , 4.8],\n",
        "                                ['User2', 'Terminator', 1, 3.8],\n",
        "                                ['User2', 'Indepndance Day', 2, 3.0]], columns=['User', 'Movie', 'Position', 'Rate'])\n",
        "recommendation"
      ],
      "execution_count": 144,
      "outputs": [
        {
          "output_type": "execute_result",
          "data": {
            "text/html": [
              "<div>\n",
              "<style scoped>\n",
              "    .dataframe tbody tr th:only-of-type {\n",
              "        vertical-align: middle;\n",
              "    }\n",
              "\n",
              "    .dataframe tbody tr th {\n",
              "        vertical-align: top;\n",
              "    }\n",
              "\n",
              "    .dataframe thead th {\n",
              "        text-align: right;\n",
              "    }\n",
              "</style>\n",
              "<table border=\"1\" class=\"dataframe\">\n",
              "  <thead>\n",
              "    <tr style=\"text-align: right;\">\n",
              "      <th></th>\n",
              "      <th>User</th>\n",
              "      <th>Movie</th>\n",
              "      <th>Position</th>\n",
              "      <th>Rate</th>\n",
              "    </tr>\n",
              "  </thead>\n",
              "  <tbody>\n",
              "    <tr>\n",
              "      <th>0</th>\n",
              "      <td>User1</td>\n",
              "      <td>Godzilla</td>\n",
              "      <td>0</td>\n",
              "      <td>4.8</td>\n",
              "    </tr>\n",
              "    <tr>\n",
              "      <th>1</th>\n",
              "      <td>User1</td>\n",
              "      <td>StarGate</td>\n",
              "      <td>1</td>\n",
              "      <td>4.7</td>\n",
              "    </tr>\n",
              "    <tr>\n",
              "      <th>2</th>\n",
              "      <td>User1</td>\n",
              "      <td>Independence Day</td>\n",
              "      <td>2</td>\n",
              "      <td>4.0</td>\n",
              "    </tr>\n",
              "    <tr>\n",
              "      <th>3</th>\n",
              "      <td>User2</td>\n",
              "      <td>Godzilla</td>\n",
              "      <td>0</td>\n",
              "      <td>4.8</td>\n",
              "    </tr>\n",
              "    <tr>\n",
              "      <th>4</th>\n",
              "      <td>User2</td>\n",
              "      <td>Terminator</td>\n",
              "      <td>1</td>\n",
              "      <td>3.8</td>\n",
              "    </tr>\n",
              "    <tr>\n",
              "      <th>5</th>\n",
              "      <td>User2</td>\n",
              "      <td>Indepndance Day</td>\n",
              "      <td>2</td>\n",
              "      <td>3.0</td>\n",
              "    </tr>\n",
              "  </tbody>\n",
              "</table>\n",
              "</div>"
            ],
            "text/plain": [
              "    User             Movie  Position  Rate\n",
              "0  User1          Godzilla         0   4.8\n",
              "1  User1          StarGate         1   4.7\n",
              "2  User1  Independence Day         2   4.0\n",
              "3  User2          Godzilla         0   4.8\n",
              "4  User2        Terminator         1   3.8\n",
              "5  User2   Indepndance Day         2   3.0"
            ]
          },
          "metadata": {
            "tags": []
          },
          "execution_count": 144
        }
      ]
    },
    {
      "cell_type": "code",
      "metadata": {
        "id": "-kxaARf0mBVg",
        "colab_type": "code",
        "outputId": "4c9f9923-07df-4d27-b974-9cfb6a863bbb",
        "colab": {
          "base_uri": "https://localhost:8080/",
          "height": 34
        }
      },
      "source": [
        "def get_top_n_hitrate(data, recommendation):\n",
        "   hits = len(data.merge(recommendation,on=['User', 'Movie']))\n",
        "   users = len(data['User'].unique())\n",
        "\n",
        "   N = len(recommendation)/len(recommendation['User'].unique())\n",
        "   return 0 if users == 0 else (hits/users) / N\n",
        "\n",
        "print(f'Our Hit Rate is equal to: {get_top_n_hitrate(data, recommendation):.2%}')"
      ],
      "execution_count": 145,
      "outputs": [
        {
          "output_type": "stream",
          "text": [
            "Our Hit Rate is equal to: 33.33%\n"
          ],
          "name": "stdout"
        }
      ]
    },
    {
      "cell_type": "markdown",
      "metadata": {
        "id": "braXZDCKIwz6",
        "colab_type": "text"
      },
      "source": [
        "### Top-N Hit Leave One Out Cross Validation\n",
        "\n",
        "In our recommendation system we remove one item, and generate recommendation for that user. If the recommendation contains the leave it item we count it as a hit (`hit+=1`, otherwise we only increase number if total `total+=1`) \n",
        "\n",
        "For the example, we've got two users `train_set`. \n",
        "\n",
        "* We remove from the test set one item ` [('User1', 'StarGate'), ('User2', 'Terminator')]`\n",
        "* We return TrainSet with excluded items from previous point."
      ]
    },
    {
      "cell_type": "code",
      "metadata": {
        "id": "05daWY5-Iv5P",
        "colab_type": "code",
        "outputId": "f1f22149-f772-4912-eff6-600e245a8e95",
        "colab": {
          "base_uri": "https://localhost:8080/",
          "height": 190
        }
      },
      "source": [
        "train_set = pd.DataFrame([['User1', 'Star Wars', '4'],\n",
        "                        ['User1', 'Star Trek', '4'],\n",
        "                        ['User1', 'StarGate', '3'],\n",
        "                        ['User2', 'Star Trek', '3'],\n",
        "                        ['User2', 'Terminator', '1'],\n",
        "                        ['User2', 'Hobbit', '5']], columns=['User', 'Movie', 'Rate (1-5)'])\n",
        "\n",
        "np.random.seed(1) # require to get the same data\n",
        "\n",
        "def get_left_out_prediction_movies(df, left=1):\n",
        "  # We remove one item for each item, and by this get the recommendation\n",
        "  left_out_rows = df.sample(frac=1).groupby('User').head(left)\n",
        "  rows_to_topn = df[~df.index.isin(left_out_rows.index)]\n",
        "  return [ (row['User'], row['Movie'], row['Rate (1-5)']) for index,row in left_out_rows.iterrows()], rows_to_topn\n",
        "\n",
        "left_out_predictions, rows_to_topn = get_left_out_prediction_movies(train_set, left=1)\n",
        "print('Left out prediction movies: ', left_out_predictions)\n",
        "rows_to_topn"
      ],
      "execution_count": 146,
      "outputs": [
        {
          "output_type": "stream",
          "text": [
            "Left out prediction movies:  [('User1', 'StarGate', '3'), ('User2', 'Terminator', '1')]\n"
          ],
          "name": "stdout"
        },
        {
          "output_type": "execute_result",
          "data": {
            "text/html": [
              "<div>\n",
              "<style scoped>\n",
              "    .dataframe tbody tr th:only-of-type {\n",
              "        vertical-align: middle;\n",
              "    }\n",
              "\n",
              "    .dataframe tbody tr th {\n",
              "        vertical-align: top;\n",
              "    }\n",
              "\n",
              "    .dataframe thead th {\n",
              "        text-align: right;\n",
              "    }\n",
              "</style>\n",
              "<table border=\"1\" class=\"dataframe\">\n",
              "  <thead>\n",
              "    <tr style=\"text-align: right;\">\n",
              "      <th></th>\n",
              "      <th>User</th>\n",
              "      <th>Movie</th>\n",
              "      <th>Rate (1-5)</th>\n",
              "    </tr>\n",
              "  </thead>\n",
              "  <tbody>\n",
              "    <tr>\n",
              "      <th>0</th>\n",
              "      <td>User1</td>\n",
              "      <td>Star Wars</td>\n",
              "      <td>4</td>\n",
              "    </tr>\n",
              "    <tr>\n",
              "      <th>1</th>\n",
              "      <td>User1</td>\n",
              "      <td>Star Trek</td>\n",
              "      <td>4</td>\n",
              "    </tr>\n",
              "    <tr>\n",
              "      <th>3</th>\n",
              "      <td>User2</td>\n",
              "      <td>Star Trek</td>\n",
              "      <td>3</td>\n",
              "    </tr>\n",
              "    <tr>\n",
              "      <th>5</th>\n",
              "      <td>User2</td>\n",
              "      <td>Hobbit</td>\n",
              "      <td>5</td>\n",
              "    </tr>\n",
              "  </tbody>\n",
              "</table>\n",
              "</div>"
            ],
            "text/plain": [
              "    User      Movie Rate (1-5)\n",
              "0  User1  Star Wars          4\n",
              "1  User1  Star Trek          4\n",
              "3  User2  Star Trek          3\n",
              "5  User2     Hobbit          5"
            ]
          },
          "metadata": {
            "tags": []
          },
          "execution_count": 146
        }
      ]
    },
    {
      "cell_type": "markdown",
      "metadata": {
        "id": "ttQDtXf2jHqc",
        "colab_type": "text"
      },
      "source": [
        "* Get recommendation for train set from previous point (without leave one movies)."
      ]
    },
    {
      "cell_type": "code",
      "metadata": {
        "id": "8B03in-Skuje",
        "colab_type": "code",
        "colab": {
          "base_uri": "https://localhost:8080/",
          "height": 297
        },
        "outputId": "96212707-385f-4a7c-f918-2a1bb3d36d29"
      },
      "source": [
        "def get_recommendations(user_ratings):\n",
        "  return pd.DataFrame(\n",
        "      [['User1','Jurrasic Park', 4.5],\n",
        "      ['User1','Hobbit', 4.0],\n",
        "      ['User1','Blade Runner', 3.8],\n",
        "      ['User1','Inception', 3.4],    \n",
        "      ['User2','Space Odyssey', 4.7],\n",
        "      ['User2','Terminator', 4.3],\n",
        "      ['User2','Alien', 3.9],\n",
        "      ['User2','Predator', 3.4]], columns=['user','movie', 'rate']      \n",
        "  )\n",
        "\n",
        "recommendations = get_recommendations(rows_to_topn)\n",
        "recommendations"
      ],
      "execution_count": 152,
      "outputs": [
        {
          "output_type": "execute_result",
          "data": {
            "text/html": [
              "<div>\n",
              "<style scoped>\n",
              "    .dataframe tbody tr th:only-of-type {\n",
              "        vertical-align: middle;\n",
              "    }\n",
              "\n",
              "    .dataframe tbody tr th {\n",
              "        vertical-align: top;\n",
              "    }\n",
              "\n",
              "    .dataframe thead th {\n",
              "        text-align: right;\n",
              "    }\n",
              "</style>\n",
              "<table border=\"1\" class=\"dataframe\">\n",
              "  <thead>\n",
              "    <tr style=\"text-align: right;\">\n",
              "      <th></th>\n",
              "      <th>user</th>\n",
              "      <th>movie</th>\n",
              "      <th>rate</th>\n",
              "    </tr>\n",
              "  </thead>\n",
              "  <tbody>\n",
              "    <tr>\n",
              "      <th>0</th>\n",
              "      <td>User1</td>\n",
              "      <td>Jurrasic Park</td>\n",
              "      <td>4.5</td>\n",
              "    </tr>\n",
              "    <tr>\n",
              "      <th>1</th>\n",
              "      <td>User1</td>\n",
              "      <td>Hobbit</td>\n",
              "      <td>4.0</td>\n",
              "    </tr>\n",
              "    <tr>\n",
              "      <th>2</th>\n",
              "      <td>User1</td>\n",
              "      <td>Blade Runner</td>\n",
              "      <td>3.8</td>\n",
              "    </tr>\n",
              "    <tr>\n",
              "      <th>3</th>\n",
              "      <td>User1</td>\n",
              "      <td>Inception</td>\n",
              "      <td>3.4</td>\n",
              "    </tr>\n",
              "    <tr>\n",
              "      <th>4</th>\n",
              "      <td>User2</td>\n",
              "      <td>Space Odyssey</td>\n",
              "      <td>4.7</td>\n",
              "    </tr>\n",
              "    <tr>\n",
              "      <th>5</th>\n",
              "      <td>User2</td>\n",
              "      <td>Terminator</td>\n",
              "      <td>4.3</td>\n",
              "    </tr>\n",
              "    <tr>\n",
              "      <th>6</th>\n",
              "      <td>User2</td>\n",
              "      <td>Alien</td>\n",
              "      <td>3.9</td>\n",
              "    </tr>\n",
              "    <tr>\n",
              "      <th>7</th>\n",
              "      <td>User2</td>\n",
              "      <td>Predator</td>\n",
              "      <td>3.4</td>\n",
              "    </tr>\n",
              "  </tbody>\n",
              "</table>\n",
              "</div>"
            ],
            "text/plain": [
              "    user          movie  rate\n",
              "0  User1  Jurrasic Park   4.5\n",
              "1  User1         Hobbit   4.0\n",
              "2  User1   Blade Runner   3.8\n",
              "3  User1      Inception   3.4\n",
              "4  User2  Space Odyssey   4.7\n",
              "5  User2     Terminator   4.3\n",
              "6  User2          Alien   3.9\n",
              "7  User2       Predator   3.4"
            ]
          },
          "metadata": {
            "tags": []
          },
          "execution_count": 152
        }
      ]
    },
    {
      "cell_type": "code",
      "metadata": {
        "id": "z_aLVxPKge3V",
        "colab_type": "code",
        "outputId": "34fa90ff-13f9-4e2e-e3fe-44aaa21faa89",
        "colab": {
          "base_uri": "https://localhost:8080/",
          "height": 68
        }
      },
      "source": [
        "def get_topn_recommendation(recommendations, n = 3):\n",
        "  topn_recommendation = dict()\n",
        "  for user in recommendations['user'].unique():\n",
        "    topn_recommendation[user] = [(series['movie'], series['rate']) for index,series in recommendations[recommendations['user']==user].sort_values(by='rate', ascending=False).head(n).iterrows()]\n",
        "  return topn_recommendation\n",
        "\n",
        "def get_topn_movies(get_topn_recommendation):\n",
        "  return [x[0] for x in get_topn_recommendation]\n",
        "\n",
        "topn_recommendation = get_topn_recommendation(recommendations)\n",
        "print(get_topn_movies(topn_recommendation['User1']))\n",
        "topn_recommendation\n",
        "\n",
        "# {'User1': [('Jurrasic Park', 4.5), ('Hobbit', 4.0), ('Blade Runner', 3.8)],\n",
        "#  'User2': [('Space Odyssey', 4.7), ('Terminator', 4.3), ('Alien', 3.9)]}"
      ],
      "execution_count": 197,
      "outputs": [
        {
          "output_type": "stream",
          "text": [
            "['Jurrasic Park', 'Hobbit', 'Blade Runner']\n"
          ],
          "name": "stdout"
        },
        {
          "output_type": "execute_result",
          "data": {
            "text/plain": [
              "{'User1': [('Jurrasic Park', 4.5), ('Hobbit', 4.0), ('Blade Runner', 3.8)],\n",
              " 'User2': [('Space Odyssey', 4.7), ('Terminator', 4.3), ('Alien', 3.9)]}"
            ]
          },
          "metadata": {
            "tags": []
          },
          "execution_count": 197
        }
      ]
    },
    {
      "cell_type": "markdown",
      "metadata": {
        "id": "XQz_dTYdj2Mh",
        "colab_type": "text"
      },
      "source": [
        "* Based on the recommendation we check if the movie exist in the recommendation list, if yes increase hit. In the example excluded `Terminator` for `User2` exist in the recommendation so we have 1 hit, and total number of users is 2. In the output we get 0.5"
      ]
    },
    {
      "cell_type": "code",
      "metadata": {
        "id": "uKJXPJmahMTC",
        "colab_type": "code",
        "outputId": "a7b72baf-fbc8-4bf6-b78b-257d820fc005",
        "colab": {
          "base_uri": "https://localhost:8080/",
          "height": 34
        }
      },
      "source": [
        "def topn_hitrate_leave_one_out(topn_recommendation, left_out_predictions):\n",
        "    hit = 0 \n",
        "    total = 0\n",
        "    for user, left_out_movie, stars in left_out_predictions:\n",
        "      recommendation = get_topn_movies(topn_recommendation[user])\n",
        "      if left_out_movie in recommendation:\n",
        "        hit+=1\n",
        "      total += 1\n",
        "    return hit/total\n",
        "\n",
        "topn_hitrate_leave_one_out(topn_recommendation, left_out_predictions)"
      ],
      "execution_count": 198,
      "outputs": [
        {
          "output_type": "execute_result",
          "data": {
            "text/plain": [
              "0.5"
            ]
          },
          "metadata": {
            "tags": []
          },
          "execution_count": 198
        }
      ]
    },
    {
      "cell_type": "markdown",
      "metadata": {
        "id": "u8gUd-UpkRov",
        "colab_type": "text"
      },
      "source": [
        "**CONS**\n",
        "\n",
        "* For real data it is very low value, like 0.001, because it is hard to find this exactly one excluded movie in the database. \n",
        "* Requires a huge database of user raitings"
      ]
    },
    {
      "cell_type": "markdown",
      "metadata": {
        "id": "2zTJvoigQdZl",
        "colab_type": "text"
      },
      "source": [
        "### Average Reciprocal HitRate  (ARHR)\n",
        "\n",
        "- This is like HitRate but also get into consideration where it is appear $rank_i$. \n",
        "- Focus on the user method\n",
        "\n",
        "$\\begin{align*}arhr=\\frac{\\sum_{i=1}^{n}\\frac{1}{rank_i}}{users}\\end{align*}$\n",
        "\n",
        "In this example, we've got 'Terminator' on the second place, so our arhr is:\n",
        "\n",
        "$rank_{user1}=0$ (There is no hit)\n",
        "\n",
        "$rank_{user2}=2$ (Terminator is on the second place)\n",
        "\n",
        "\n",
        "$arhr=\\frac{\\frac{1}{rank_{user1}}+\\frac{1}{rank_{user2}}}{user_1 + user_2}=\\frac{0+\\frac{1}{2}}{2}=0.25$\n",
        "\n"
      ]
    },
    {
      "cell_type": "code",
      "metadata": {
        "id": "dAUj4vCMTkKB",
        "colab_type": "code",
        "colab": {
          "base_uri": "https://localhost:8080/",
          "height": 139
        },
        "outputId": "79b21996-05f7-47b1-fb1d-69528cec9e1b"
      },
      "source": [
        "def average_reciprocal_hitrank(topn_recommendation, left_out_predictions):\n",
        "    hit_rank = 0 \n",
        "    total = 0\n",
        "    for user, left_out_movie, stars  in left_out_predictions:\n",
        "      recommendation = get_topn_movies(topn_recommendation[user])\n",
        "      if left_out_movie in recommendation:\n",
        "          hit_rank += 1/(recommendation.index(left_out_movie) + 1 ) # it starts from zero\n",
        "      total += 1\n",
        "    return hit_rank/total\n",
        "\n",
        "print(\"Recommendation: \\n\", topn_recommendation)\n",
        "print(\"Leave out recommendation: \\n\", left_out_predictions)\n",
        "\n",
        "print(\"ARHR: \\n\" ,average_reciprocal_hitrank(topn_recommendation, left_out_predictions))"
      ],
      "execution_count": 199,
      "outputs": [
        {
          "output_type": "stream",
          "text": [
            "Recommendation: \n",
            " {'User1': [('Jurrasic Park', 4.5), ('Hobbit', 4.0), ('Blade Runner', 3.8)], 'User2': [('Space Odyssey', 4.7), ('Terminator', 4.3), ('Alien', 3.9)]}\n",
            "Leave out recommendation: \n",
            " [('User1', 'StarGate', '3'), ('User2', 'Terminator', '1')]\n",
            "ARHR: \n",
            " 0.25\n"
          ],
          "name": "stdout"
        }
      ]
    },
    {
      "cell_type": "markdown",
      "metadata": {
        "id": "02UXe9IQZO86",
        "colab_type": "text"
      },
      "source": [
        "### Cumulative Hit Rate (cHR)\n",
        "\n",
        "In this case we remove hit rate for movies that are not bellow some value. Because we haven't enjoy this movie it shouldn't be in the list.\n",
        "\n",
        "\n",
        "In our example, the movie 'Terminator' was starred as '1' which means the user didn't like this movie. \n",
        "\n",
        "In our cumulative hit rate we need remove this in calculations.\n"
      ]
    },
    {
      "cell_type": "code",
      "metadata": {
        "id": "IVlZrrJ7xX0r",
        "colab_type": "code",
        "colab": {
          "base_uri": "https://localhost:8080/",
          "height": 139
        },
        "outputId": "55a29ed4-3e1b-40e3-ffc0-9416fd630d7f"
      },
      "source": [
        "def cumulative_hit_rate(topn_recommendation, left_out_predictions, minimum_rank = 3.0):\n",
        "    hit_rank = 0 \n",
        "    total = 0\n",
        "    for user,left_out_movie, stars  in left_out_predictions:\n",
        "      stars = float(stars)\n",
        "      recommendation = get_topn_movies(topn_recommendation[user])\n",
        "\n",
        "      if stars >= minimum_rank:\n",
        "        if left_out_movie in recommendation:\n",
        "            hit_rank+= 1/(recommendation.index(left_out_movie) + 1 ) # it starts from zero\n",
        "        total += 1\n",
        "    return 0 if total<=0 else hit_rank/total\n",
        "\n",
        "\n",
        "print(\"Recommendation: \\n\", topn_recommendation)\n",
        "print(\"Leave out recommendation: \\n\", left_out_predictions)\n",
        "\n",
        "print(\"Cumulative Hit Rate: \\n\" ,cumulative_hit_rate(topn_recommendation, left_out_predictions, 3.0))"
      ],
      "execution_count": 200,
      "outputs": [
        {
          "output_type": "stream",
          "text": [
            "Recommendation: \n",
            " {'User1': [('Jurrasic Park', 4.5), ('Hobbit', 4.0), ('Blade Runner', 3.8)], 'User2': [('Space Odyssey', 4.7), ('Terminator', 4.3), ('Alien', 3.9)]}\n",
            "Leave out recommendation: \n",
            " [('User1', 'StarGate', '3'), ('User2', 'Terminator', '1')]\n",
            "Cumulative Hit Rate: \n",
            " 0.0\n"
          ],
          "name": "stdout"
        }
      ]
    },
    {
      "cell_type": "markdown",
      "metadata": {
        "id": "yA50m6itzNC1",
        "colab_type": "text"
      },
      "source": [
        "\n",
        "$rank_{user1}=0$ (There is no hit)\n",
        "\n",
        "$rank_{user2}=2\\ (1>3=False)=0$ (Terminator is on the second place, but it is stared as '1')\n",
        "\n",
        "\n",
        "$chr(3)=\\frac{\\frac{1}{rank_{user1}}+\\frac{1}{rank_{user2}}}{user_1 + user_2}=\\frac{0+0}{2}=0$"
      ]
    },
    {
      "cell_type": "markdown",
      "metadata": {
        "id": "SWsMcPKWzm5f",
        "colab_type": "text"
      },
      "source": [
        "### Rating Hit Rate (rHR)\n",
        "\n",
        "In this situation for each score in your stars (⭐ 1-5). For each score if the movie is in the score it is consider as a hit, otherwise we add total for this score.\n",
        "\n"
      ]
    },
    {
      "cell_type": "code",
      "metadata": {
        "id": "nCWVq3V2zl5c",
        "colab_type": "code",
        "colab": {
          "base_uri": "https://localhost:8080/",
          "height": 258
        },
        "outputId": "fa110aa6-97e7-46ed-e0ff-2458b22f110d"
      },
      "source": [
        "from collections import defaultdict\n",
        "\n",
        "def rating_hit_rate(topn_recommendation, left_out_predictions):\n",
        "        hits = defaultdict(float)\n",
        "        total = defaultdict(float)\n",
        "\n",
        "        # For each left-out rating\n",
        "        for user, left_out_movie, stars in left_out_predictions:\n",
        "            stars = float(stars)\n",
        "\n",
        "            # Is it in the predicted top N for this user?\n",
        "            recommendation = get_topn_movies(topn_recommendation[user])\n",
        "            if left_out_movie in recommendation:\n",
        "                hits[stars]  += 1\n",
        "            total[stars] += 1\n",
        "            \n",
        "        # Compute overall precision\n",
        "        for star in range(5,0, -1): # sorted(hits.keys()):\n",
        "            print ('\\nFor stars:',star,  '⭐'*star, \n",
        "                   ', Hit rate is: ', hits[star] / total[star] if star in hits else 0)\n",
        "\n",
        "\n",
        "print(\"Recommendation: \\n\", topn_recommendation)\n",
        "print(\"Leave out recommendation: \", left_out_predictions)\n",
        "\n",
        "rating_hit_rate(topn_recommendation, left_out_predictions)"
      ],
      "execution_count": 201,
      "outputs": [
        {
          "output_type": "stream",
          "text": [
            "Recommendation: \n",
            " {'User1': [('Jurrasic Park', 4.5), ('Hobbit', 4.0), ('Blade Runner', 3.8)], 'User2': [('Space Odyssey', 4.7), ('Terminator', 4.3), ('Alien', 3.9)]}\n",
            "Leave out recommendation:  [('User1', 'StarGate', '3'), ('User2', 'Terminator', '1')]\n",
            "\n",
            "For stars: 5 ⭐⭐⭐⭐⭐ , Hit rate is:  0\n",
            "\n",
            "For stars: 4 ⭐⭐⭐⭐ , Hit rate is:  0\n",
            "\n",
            "For stars: 3 ⭐⭐⭐ , Hit rate is:  0\n",
            "\n",
            "For stars: 2 ⭐⭐ , Hit rate is:  0\n",
            "\n",
            "For stars: 1 ⭐ , Hit rate is:  1.0\n"
          ],
          "name": "stdout"
        }
      ]
    },
    {
      "cell_type": "markdown",
      "metadata": {
        "id": "1j67k0fqCcEp",
        "colab_type": "text"
      },
      "source": [
        "In this example, we've got only one movie \n",
        "`Terminator` with star `1`, for this movie we recommended \n",
        "\n",
        "$hits(3)=0.0$ - `StarGate` is not in the hits\n",
        "\n",
        "$total(3)=1.0$ - `StarGate` is in left_outs\n",
        "\n",
        "$hits(1)=1.0$ - `Terminator` is not in the hits\n",
        "\n",
        "$total(1)=1.0$ - `Terminator` is in left_outs\n",
        "\n",
        "\n",
        "$rating\\_hit\\_rate(3) = \\frac{hits(3)}{total(3)}=\\frac{0}{1}=0.0$\n",
        "\n",
        "$rating\\_hit\\_rate(1) = \\frac{hits(1)}{total(1)}=\\frac{1}{1}=1.0$"
      ]
    },
    {
      "cell_type": "markdown",
      "metadata": {
        "id": "pkC7Q6f2EBcO",
        "colab_type": "text"
      },
      "source": [
        "### COVERAGE\n",
        "\n",
        "The % of <user, item> pairt that can be predicted, with rating higher than `min_rate`. \n",
        "\n",
        "This is good to measure new items that are not yet scored."
      ]
    },
    {
      "cell_type": "code",
      "metadata": {
        "id": "sbt3akH2q_eQ",
        "colab_type": "code",
        "colab": {
          "base_uri": "https://localhost:8080/",
          "height": 51
        },
        "outputId": "dda845eb-ade1-4834-e8ef-d721259fe497"
      },
      "source": [
        "topn_recommendation"
      ],
      "execution_count": 211,
      "outputs": [
        {
          "output_type": "execute_result",
          "data": {
            "text/plain": [
              "{'User1': [('Jurrasic Park', 4.5), ('Hobbit', 4.0), ('Blade Runner', 3.8)],\n",
              " 'User2': [('Space Odyssey', 4.7), ('Terminator', 4.3), ('Alien', 3.9)]}"
            ]
          },
          "metadata": {
            "tags": []
          },
          "execution_count": 211
        }
      ]
    },
    {
      "cell_type": "code",
      "metadata": {
        "id": "QnWz1Zschsa6",
        "colab_type": "code",
        "colab": {
          "base_uri": "https://localhost:8080/",
          "height": 34
        },
        "outputId": "187aaa5a-5f89-457b-ad66-7fcbbaa95d75"
      },
      "source": [
        "def user_coverage(topn_recommendation, num_users, min_rate=3.0):\n",
        "  hits = 0\n",
        "  for user in topn_recommendation.keys():\n",
        "    curr_hit = sum([1.0 for movie, rate in topn_recommendation[user] if rate >= min_rate])\n",
        "    hits +=  curr_hit/len(topn_recommendation[user])\n",
        "  return hits/num_users\n",
        "            \n",
        "user_coverage(topn_recommendation, num_users = 2, min_rate=3.9)"
      ],
      "execution_count": 228,
      "outputs": [
        {
          "output_type": "execute_result",
          "data": {
            "text/plain": [
              "0.8333333333333333"
            ]
          },
          "metadata": {
            "tags": []
          },
          "execution_count": 228
        }
      ]
    },
    {
      "cell_type": "markdown",
      "metadata": {
        "id": "TTYLDHoRq7eP",
        "colab_type": "text"
      },
      "source": [
        "In the example hit for `User1` we've got 3 recommendations but only two is higher or equal 3.9, for `User2` we've got three recommendations higher or equal than 3.9 rate.\n",
        "\n",
        "$user1\\_hits=(1.0 + 1.0+0.0)/ 3.0 = 0.66$\n",
        "\n",
        "$user2\\_hits=(1.0 + 1.0+1.0)/ 3.0 = 1.00$\n",
        "\n",
        "$user\\_coverage=\\frac{user1\\_hits+user2\\_hits}{num\\_users}=\\frac{1.66}{2}=0.83$"
      ]
    },
    {
      "cell_type": "markdown",
      "metadata": {
        "id": "ew_Q0NvU3SgU",
        "colab_type": "text"
      },
      "source": [
        "## Surprise"
      ]
    },
    {
      "cell_type": "code",
      "metadata": {
        "id": "8XzYA-Go32fF",
        "colab_type": "code",
        "colab": {}
      },
      "source": [
        "!pip install surprise"
      ],
      "execution_count": 0,
      "outputs": []
    },
    {
      "cell_type": "code",
      "metadata": {
        "id": "Ns4BhmqT36H1",
        "colab_type": "code",
        "colab": {
          "base_uri": "https://localhost:8080/",
          "height": 359
        },
        "outputId": "fd657635-4b68-475c-8397-d690d52a3ac4"
      },
      "source": [
        "data = pd.DataFrame([['User1', 'Space Odyssey', '4'],\n",
        "                     ['User1', 'Star Trek', '4'],\n",
        "                     ['User1', 'StarGate', '3'],\n",
        "                     ['User2', 'Blade Runner', '3'],\n",
        "                     ['User2', 'Terminator', '1'],\n",
        "                     ['User2', 'Hobbit', '5'],\n",
        "                     ['User3', 'Star Trek', '3'],\n",
        "                     ['User3', 'StarGate', '1'],\n",
        "                     ['User3', 'Blade Runner', '5'], \n",
        "                     ['User3', 'Terminator', '4']], columns=['User', 'Movie', 'Rate (1-5)'])\n",
        "data"
      ],
      "execution_count": 332,
      "outputs": [
        {
          "output_type": "execute_result",
          "data": {
            "text/html": [
              "<div>\n",
              "<style scoped>\n",
              "    .dataframe tbody tr th:only-of-type {\n",
              "        vertical-align: middle;\n",
              "    }\n",
              "\n",
              "    .dataframe tbody tr th {\n",
              "        vertical-align: top;\n",
              "    }\n",
              "\n",
              "    .dataframe thead th {\n",
              "        text-align: right;\n",
              "    }\n",
              "</style>\n",
              "<table border=\"1\" class=\"dataframe\">\n",
              "  <thead>\n",
              "    <tr style=\"text-align: right;\">\n",
              "      <th></th>\n",
              "      <th>User</th>\n",
              "      <th>Movie</th>\n",
              "      <th>Rate (1-5)</th>\n",
              "    </tr>\n",
              "  </thead>\n",
              "  <tbody>\n",
              "    <tr>\n",
              "      <th>0</th>\n",
              "      <td>User1</td>\n",
              "      <td>Space Odyssey</td>\n",
              "      <td>4</td>\n",
              "    </tr>\n",
              "    <tr>\n",
              "      <th>1</th>\n",
              "      <td>User1</td>\n",
              "      <td>Star Trek</td>\n",
              "      <td>4</td>\n",
              "    </tr>\n",
              "    <tr>\n",
              "      <th>2</th>\n",
              "      <td>User1</td>\n",
              "      <td>StarGate</td>\n",
              "      <td>3</td>\n",
              "    </tr>\n",
              "    <tr>\n",
              "      <th>3</th>\n",
              "      <td>User2</td>\n",
              "      <td>Blade Runner</td>\n",
              "      <td>3</td>\n",
              "    </tr>\n",
              "    <tr>\n",
              "      <th>4</th>\n",
              "      <td>User2</td>\n",
              "      <td>Terminator</td>\n",
              "      <td>1</td>\n",
              "    </tr>\n",
              "    <tr>\n",
              "      <th>5</th>\n",
              "      <td>User2</td>\n",
              "      <td>Hobbit</td>\n",
              "      <td>5</td>\n",
              "    </tr>\n",
              "    <tr>\n",
              "      <th>6</th>\n",
              "      <td>User3</td>\n",
              "      <td>Star Trek</td>\n",
              "      <td>3</td>\n",
              "    </tr>\n",
              "    <tr>\n",
              "      <th>7</th>\n",
              "      <td>User3</td>\n",
              "      <td>StarGate</td>\n",
              "      <td>1</td>\n",
              "    </tr>\n",
              "    <tr>\n",
              "      <th>8</th>\n",
              "      <td>User3</td>\n",
              "      <td>Blade Runner</td>\n",
              "      <td>5</td>\n",
              "    </tr>\n",
              "    <tr>\n",
              "      <th>9</th>\n",
              "      <td>User3</td>\n",
              "      <td>Terminator</td>\n",
              "      <td>4</td>\n",
              "    </tr>\n",
              "  </tbody>\n",
              "</table>\n",
              "</div>"
            ],
            "text/plain": [
              "    User          Movie Rate (1-5)\n",
              "0  User1  Space Odyssey          4\n",
              "1  User1      Star Trek          4\n",
              "2  User1       StarGate          3\n",
              "3  User2   Blade Runner          3\n",
              "4  User2     Terminator          1\n",
              "5  User2         Hobbit          5\n",
              "6  User3      Star Trek          3\n",
              "7  User3       StarGate          1\n",
              "8  User3   Blade Runner          5\n",
              "9  User3     Terminator          4"
            ]
          },
          "metadata": {
            "tags": []
          },
          "execution_count": 332
        }
      ]
    },
    {
      "cell_type": "code",
      "metadata": {
        "id": "X6SQQqssz2dw",
        "colab_type": "code",
        "colab": {
          "base_uri": "https://localhost:8080/",
          "height": 357
        },
        "outputId": "c9990733-4240-4f2e-e460-4da49f843973"
      },
      "source": [
        "from surprise import Dataset\n",
        "from surprise import Reader\n",
        "from surprise import KNNBaseline\n",
        "import itertools\n",
        "\n",
        "\n",
        "datas = Dataset.load_from_df(data, Reader(rating_scale=(1,5)))\n",
        "# Train Set that contains all data\n",
        "full_train_set = datas.build_full_trainset()\n",
        "\n",
        "# Check similarity between two items\n",
        "sims_algo = KNNBaseline(sim_options={'name': 'pearson_baseline', 'user_based': False})\n",
        "sims_algo.fit(full_train_set);\n",
        "\n",
        "print('\\n** Compute similarities between two movies:\\n')\n",
        "sims_matrix = sims_algo.compute_similarities() \n",
        "print(sims_matrix)\n",
        "\n",
        "print('\\n** The similair similarities between two movies (Hobbit and Terminator). \\n\\\n",
        "The matrix is symmetric (sims_matrix[stargate_id][startrek_id]=sims_matrix[startrek_id][stargate_id]):\\n')\n",
        "\n",
        "stargate_id = sims_algo.trainset.to_inner_iid('StarGate')\n",
        "startrek_id = sims_algo.trainset.to_inner_iid('Star Trek')\n",
        "\n",
        "print(sims_matrix[stargate_id][startrek_id])\n",
        "print(sims_matrix[startrek_id][stargate_id])"
      ],
      "execution_count": 347,
      "outputs": [
        {
          "output_type": "stream",
          "text": [
            "Estimating biases using als...\n",
            "Computing the pearson_baseline similarity matrix...\n",
            "Done computing similarity matrix.\n",
            "\n",
            "** Compute similarities between two movies:\n",
            "\n",
            "Computing the pearson_baseline similarity matrix...\n",
            "Done computing similarity matrix.\n",
            "[[1.         0.         0.         0.         0.         0.        ]\n",
            " [0.         1.         0.0041005  0.         0.         0.        ]\n",
            " [0.         0.0041005  1.         0.         0.         0.        ]\n",
            " [0.         0.         0.         1.         0.00558801 0.        ]\n",
            " [0.         0.         0.         0.00558801 1.         0.        ]\n",
            " [0.         0.         0.         0.         0.         1.        ]]\n",
            "\n",
            "** The similair similarities between two movies (Hobbit and Terminator). \n",
            "The matrix is symmetric (sims_matrix[stargate_id][startrek_id]=sims_matrix[startrek_id][stargate_id]):\n",
            "\n",
            "0.004100497759935318\n",
            "0.004100497759935318\n"
          ],
          "name": "stdout"
        }
      ]
    },
    {
      "cell_type": "markdown",
      "metadata": {
        "id": "8bM_-KAQ74yE",
        "colab_type": "text"
      },
      "source": [
        "We've got some similarities between `StarGate` and `Star Trek` because both they appear in `User3`, so they might be similar. We don't have similarities for `Space Odyssey` because it only appear in one user. "
      ]
    },
    {
      "cell_type": "markdown",
      "metadata": {
        "id": "d1H3jT8539KF",
        "colab_type": "text"
      },
      "source": [
        "### DIVERSIITY\n",
        "\n",
        "For diversity we use similarity matrix between movies. `Diversity` is  `(1-S)` where `S` is similarity for each pair in the user recommendation.\n",
        "\n",
        "* Very High diversity very often means that algorithm return random values. \n",
        "* Too Low is not good because it shows very similar ones"
      ]
    },
    {
      "cell_type": "code",
      "metadata": {
        "id": "U-Uqfycky4h9",
        "colab_type": "code",
        "colab": {
          "base_uri": "https://localhost:8080/",
          "height": 360
        },
        "outputId": "dbf30a5a-bb05-422c-e5aa-d1314ee223fc"
      },
      "source": [
        "topn_recommendation = {'User1': [('Blade Runner', 4.5), ('Hobbit', 4.0)],\n",
        " 'User2': [('Space Odyssey', 4.7), ('Star Trek', 4.3),  ('StarGate', 4.3)]}\n",
        "\n",
        "print('Our recommendation:\\n ', topn_recommendation)\n",
        "\n",
        "def diversity(topn_recommendation, sims_algo):\n",
        "    n = 0\n",
        "    total = 0\n",
        "    sims_matrix = sims_algo.compute_similarities()\n",
        "    print('\\nCalculate similarity for all combinations:\\n')\n",
        "    for user in topn_recommendation.keys():\n",
        "        pairs = itertools.combinations(get_topn_movies(topn_recommendation[user]), 2)\n",
        "        \"\"\"\n",
        "        [(('Jurrasic Park', 4.5), ('Hobbit', 4.0)),\n",
        "          (('Jurrasic Park', 4.5), ('Blade Runner', 3.8)),\n",
        "          (('Hobbit', 4.0), ('Blade Runner', 3.8))]\n",
        "        \"\"\"\n",
        "        for pair in pairs:\n",
        "            movie1 = pair[0]\n",
        "            movie2 = pair[1]\n",
        "\n",
        "            id1 = sims_algo.trainset.to_inner_iid(str(movie1))\n",
        "            id2 = sims_algo.trainset.to_inner_iid(str(movie2))\n",
        "\n",
        "            similarity = sims_matrix[id1][id2]\n",
        "            print('Similarity(', movie1,',',  movie2, ') = ' , similarity)\n",
        "            total += similarity\n",
        "            n += 1\n",
        "\n",
        "    S = total / n\n",
        "    print('\\nTotal Similarity: ', total, '/', n, ' = ', S)\n",
        "    return (1-S)\n",
        "\n",
        "\n",
        "print('\\nCalculation Diversity:\\n')\n",
        "diversity = diversity(topn_recommendation,sims_algo)\n",
        "\n",
        "\n",
        "print('\\nDiversity: \\n', diversity)"
      ],
      "execution_count": 371,
      "outputs": [
        {
          "output_type": "stream",
          "text": [
            "Our recommendation:\n",
            "  {'User1': [('Blade Runner', 4.5), ('Hobbit', 4.0)], 'User2': [('Space Odyssey', 4.7), ('Star Trek', 4.3), ('StarGate', 4.3)]}\n",
            "\n",
            "Calculation Diversity:\n",
            "\n",
            "Computing the pearson_baseline similarity matrix...\n",
            "Done computing similarity matrix.\n",
            "\n",
            "Calculate similarity for all combinations:\n",
            "\n",
            "Similarity( Blade Runner , Hobbit ) =  0.0\n",
            "Similarity( Space Odyssey , Star Trek ) =  0.0\n",
            "Similarity( Space Odyssey , StarGate ) =  0.0\n",
            "Similarity( Star Trek , StarGate ) =  0.004100497759935318\n",
            "\n",
            "Total Similarity:  0.004100497759935318 / 4  =  0.0010251244399838294\n",
            "\n",
            "Diversity: \n",
            " 0.9989748755600162\n"
          ],
          "name": "stdout"
        }
      ]
    },
    {
      "cell_type": "markdown",
      "metadata": {
        "id": "qbhQZUQe82M3",
        "colab_type": "text"
      },
      "source": [
        "For User1 we've got only one combination of recommendation:\n",
        "\n",
        "```\n",
        "[('Blade Runner', 'Hobbit')\\\n",
        "\n",
        "Similarity( Blade Runner , Hobbit ) =  0.0\n",
        "```\n",
        "\n",
        "For User2 we've got three combinations:\n",
        "\n",
        "```\n",
        "[('Space Odyssey', 'Terminator'),\n",
        " ('Space Odyssey', 'Hobbit'),\n",
        " ('Terminator', 'Hobbit')]\n",
        "```\n",
        "\n",
        "And similarity is:\n",
        "\n",
        "```\n",
        "Similarity( Space Odyssey , Star Trek ) =  0.0\n",
        "Similarity( Space Odyssey , StarGate ) =  0.0\n",
        "Similarity( Star Trek , StarGate ) =  0.004100497759935318\n",
        "```\n",
        "\n",
        "$S = 0.0+0.0.0+0.0+0.0041 / n = 0.0041 / 4 = 0.001025$\n",
        "\n",
        "$Diversity=(1-S)=1-0.001025=0.998975$"
      ]
    },
    {
      "cell_type": "markdown",
      "metadata": {
        "id": "bDGQXZfBEfPx",
        "colab_type": "text"
      },
      "source": [
        "### NOVELTY"
      ]
    },
    {
      "cell_type": "code",
      "metadata": {
        "id": "qUPYCUkkC3xX",
        "colab_type": "code",
        "colab": {
          "base_uri": "https://localhost:8080/",
          "height": 396
        },
        "outputId": "f626a91f-3587-4ef4-a4c8-1d898cb10719"
      },
      "source": [
        "topn_recommendation = {'User1': [('Blade Runner', 4.5), ('Hobbit', 4.0)],\n",
        " 'User2': [('Space Odyssey', 4.7), ('Star Trek', 4.3),  ('StarGate', 4.3)]}\n",
        "print(topn_recommendation)\n",
        "\n",
        "data = pd.DataFrame([['User1', 'Space Odyssey', '4'],\n",
        "                     ['User1', 'Star Trek', '4'],\n",
        "                     ['User1', 'StarGate', '3'],\n",
        "                     ['User2', 'Blade Runner', '3'],\n",
        "                     ['User2', 'Terminator', '1'],\n",
        "                     ['User2', 'Hobbit', '5'],\n",
        "                     ['User3', 'Star Trek', '3'],\n",
        "                     ['User3', 'StarGate', '1'],\n",
        "                     ['User3', 'Blade Runner', '5'], \n",
        "                     ['User3', 'Terminator', '4']], columns=['User', 'Movie', 'Rate (1-5)'])\n",
        "data"
      ],
      "execution_count": 409,
      "outputs": [
        {
          "output_type": "stream",
          "text": [
            "{'User1': [('Blade Runner', 4.5), ('Hobbit', 4.0)], 'User2': [('Space Odyssey', 4.7), ('Star Trek', 4.3), ('StarGate', 4.3)]}\n"
          ],
          "name": "stdout"
        },
        {
          "output_type": "execute_result",
          "data": {
            "text/html": [
              "<div>\n",
              "<style scoped>\n",
              "    .dataframe tbody tr th:only-of-type {\n",
              "        vertical-align: middle;\n",
              "    }\n",
              "\n",
              "    .dataframe tbody tr th {\n",
              "        vertical-align: top;\n",
              "    }\n",
              "\n",
              "    .dataframe thead th {\n",
              "        text-align: right;\n",
              "    }\n",
              "</style>\n",
              "<table border=\"1\" class=\"dataframe\">\n",
              "  <thead>\n",
              "    <tr style=\"text-align: right;\">\n",
              "      <th></th>\n",
              "      <th>User</th>\n",
              "      <th>Movie</th>\n",
              "      <th>Rate (1-5)</th>\n",
              "    </tr>\n",
              "  </thead>\n",
              "  <tbody>\n",
              "    <tr>\n",
              "      <th>0</th>\n",
              "      <td>User1</td>\n",
              "      <td>Space Odyssey</td>\n",
              "      <td>4</td>\n",
              "    </tr>\n",
              "    <tr>\n",
              "      <th>1</th>\n",
              "      <td>User1</td>\n",
              "      <td>Star Trek</td>\n",
              "      <td>4</td>\n",
              "    </tr>\n",
              "    <tr>\n",
              "      <th>2</th>\n",
              "      <td>User1</td>\n",
              "      <td>StarGate</td>\n",
              "      <td>3</td>\n",
              "    </tr>\n",
              "    <tr>\n",
              "      <th>3</th>\n",
              "      <td>User2</td>\n",
              "      <td>Blade Runner</td>\n",
              "      <td>3</td>\n",
              "    </tr>\n",
              "    <tr>\n",
              "      <th>4</th>\n",
              "      <td>User2</td>\n",
              "      <td>Terminator</td>\n",
              "      <td>1</td>\n",
              "    </tr>\n",
              "    <tr>\n",
              "      <th>5</th>\n",
              "      <td>User2</td>\n",
              "      <td>Hobbit</td>\n",
              "      <td>5</td>\n",
              "    </tr>\n",
              "    <tr>\n",
              "      <th>6</th>\n",
              "      <td>User3</td>\n",
              "      <td>Star Trek</td>\n",
              "      <td>3</td>\n",
              "    </tr>\n",
              "    <tr>\n",
              "      <th>7</th>\n",
              "      <td>User3</td>\n",
              "      <td>StarGate</td>\n",
              "      <td>1</td>\n",
              "    </tr>\n",
              "    <tr>\n",
              "      <th>8</th>\n",
              "      <td>User3</td>\n",
              "      <td>Blade Runner</td>\n",
              "      <td>5</td>\n",
              "    </tr>\n",
              "    <tr>\n",
              "      <th>9</th>\n",
              "      <td>User3</td>\n",
              "      <td>Terminator</td>\n",
              "      <td>4</td>\n",
              "    </tr>\n",
              "  </tbody>\n",
              "</table>\n",
              "</div>"
            ],
            "text/plain": [
              "    User          Movie Rate (1-5)\n",
              "0  User1  Space Odyssey          4\n",
              "1  User1      Star Trek          4\n",
              "2  User1       StarGate          3\n",
              "3  User2   Blade Runner          3\n",
              "4  User2     Terminator          1\n",
              "5  User2         Hobbit          5\n",
              "6  User3      Star Trek          3\n",
              "7  User3       StarGate          1\n",
              "8  User3   Blade Runner          5\n",
              "9  User3     Terminator          4"
            ]
          },
          "metadata": {
            "tags": []
          },
          "execution_count": 409
        }
      ]
    },
    {
      "cell_type": "markdown",
      "metadata": {
        "id": "67WgEK5eAIDg",
        "colab_type": "text"
      },
      "source": [
        "  In novelty we calculate the ranking of the movie in the recommendation system. If it's higher than it's rank is higher. Next we divide in the total number of recommendations. "
      ]
    },
    {
      "cell_type": "code",
      "metadata": {
        "colab_type": "code",
        "outputId": "b1bf9c87-58d3-4d35-d2fe-26aa6be78210",
        "id": "pKLwKmjuBuga",
        "colab": {
          "base_uri": "https://localhost:8080/",
          "height": 272
        }
      },
      "source": [
        "def get_rankings(data):\n",
        "    return data.groupby('Movie').count()['User'].sort_values(ascending=False)\n",
        "\n",
        "def novelty(topn_recommendation, rankings):\n",
        "    n = 0\n",
        "    total = 0\n",
        "    for user in topn_recommendation.keys():\n",
        "        for movie in get_topn_movies(topn_recommendation[user]):\n",
        "            rank = rankings[movie]\n",
        "            total += rank\n",
        "            print('Rank', rank,':' ,movie)\n",
        "            n += 1\n",
        "    print('\\nNovelty: ', total, '/', n, ' = ', total/n)\n",
        "    return total / n\n",
        "\n",
        "print('Recommendation: ', topn_recommendation,'\\n')\n",
        "nov = novelty( topn_recommendation, get_rankings(data))\n",
        "\n",
        "\n",
        "print('\\nRecommendation: ', topn_recommendation,'\\n')\n",
        "topn_recommendation = {'User1': [('Blade Runner', 4.5)],\n",
        " 'User2': [('Star Trek', 4.3),  ('StarGate', 4.3)]}\n",
        "nov = novelty( topn_recommendation, get_rankings(data))"
      ],
      "execution_count": 413,
      "outputs": [
        {
          "output_type": "stream",
          "text": [
            "Recommendation:  {'User1': [('Blade Runner', 4.5)], 'User2': [('Star Trek', 4.3), ('StarGate', 4.3)]} \n",
            "\n",
            "Rank 2 : Blade Runner\n",
            "Rank 2 : Star Trek\n",
            "Rank 2 : StarGate\n",
            "\n",
            "Novelty:  6 / 3  =  2.0\n",
            "\n",
            "Recommendation:  {'User1': [('Blade Runner', 4.5)], 'User2': [('Star Trek', 4.3), ('StarGate', 4.3)]} \n",
            "\n",
            "Rank 2 : Blade Runner\n",
            "Rank 2 : Star Trek\n",
            "Rank 2 : StarGate\n",
            "\n",
            "Novelty:  6 / 3  =  2.0\n"
          ],
          "name": "stdout"
        }
      ]
    },
    {
      "cell_type": "markdown",
      "metadata": {
        "id": "nAr_Frw4Cpxn",
        "colab_type": "text"
      },
      "source": [
        "Rank for `Blade Runner`, `Star Trek`, and `StarGate` is high becuase it was rated by two users. The rest recommended was only by two users. If we recommended only top movies we've got higher novelty.\n",
        "\n",
        "* Is it bad to get very high `Novelty`. If user get only movies that don't know he might think that this is random algorithm.\n",
        "* If it's very low, this means that it will show that shows only popular movies that might user watched or know but not rate in the system."
      ]
    },
    {
      "cell_type": "markdown",
      "metadata": {
        "id": "zGOwAVPpanE0",
        "colab_type": "text"
      },
      "source": [
        "## COSINE SIMILARITY\n",
        "\n",
        "\n",
        "https://en.wikipedia.org/wiki/Cosine_similarity\n",
        "---\n",
        "\n"
      ]
    },
    {
      "cell_type": "code",
      "metadata": {
        "id": "j1jg0hB-YQhP",
        "colab_type": "code",
        "colab": {}
      },
      "source": [
        ""
      ],
      "execution_count": 0,
      "outputs": []
    }
  ]
}